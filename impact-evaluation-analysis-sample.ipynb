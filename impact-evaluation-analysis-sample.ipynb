{
 "cells": [
  {
   "cell_type": "markdown",
   "id": "6b0d10f6",
   "metadata": {
    "papermill": {
     "duration": 0.02701,
     "end_time": "2022-05-13T17:02:01.762949",
     "exception": false,
     "start_time": "2022-05-13T17:02:01.735939",
     "status": "completed"
    },
    "tags": []
   },
   "source": [
    "## Introduction:\n",
    " \n",
    "This document contains instructions for conducting a series of data manipulation and analysis steps that represent processes encountered on a regular basis in the impact evaluation analysis.\n",
    " \n",
    "## Background on exercise:\n",
    " \n",
    "This exercise represents a simplified load impact evaluation of a demand response program implemented under a randomized controlled trial (RCT) experimental design. This program incentivizes some utility customers to reduce their electricity demand during peak hours on hot days (“event days”) by raising the price of electricity during those hours. The following exercise involves compiling data from separate sources into a master data set, cleaning and validating the data. As part of the validation process, summary statistics will be calculated and reported, and the data will be visualized.  Treatment and control group data must be validated to not have statistically significant differences on event-like non-event days (“proxy days”) to validate the randomization process (internal validity) of the experiment. Then, the difference in electricity use between the treatment and control groups must be calculated on the event days to estimate the load impact (demand reduction). In this simplified example, we will assume a simple differencing of the data is sufficient for impact calculations and difference in differences calculations are not needed.\n",
    " \n",
    "## Original data:\n",
    "- Customer hourly electricity usage (interval data)\n",
    "  - 3 files (Organized by customer by day. Ex: kW1= electricity consumption in first hour of the day)\n",
    "- Customer characteristics\n",
    " + 1 file (1=treatment group, 0=control group)\n",
    "- Event and proxy day data\n",
    " + 1 file\n",
    " \n",
    "Event period: 2 PM – 6 PM. Note: this is kW15 - kW18 and hour 15 – 18 in the data\n",
    " \n",
    "For audience from a non-technical background.\n",
    " "
   ]
  },
  {
   "cell_type": "markdown",
   "id": "ac1f34ac",
   "metadata": {
    "papermill": {
     "duration": 0.025812,
     "end_time": "2022-05-13T17:02:01.815333",
     "exception": false,
     "start_time": "2022-05-13T17:02:01.789521",
     "status": "completed"
    },
    "tags": []
   },
   "source": [
    "\n",
    "## Step 1: merging data (done in Power Query) \n",
    "1. Combine all original data to create a master dataset. Some cleaning may be necessary at this step. The outcome of this step will be a single master data file. The detailed steps are listed below:\n",
    " 1. Append the 3 customer interval datasets together\n",
    " 2. Merge the combined/appended interval data file with the customer  characteristics file\n",
    " 3. Merge the event and proxy data with the combined interval data and customer characteristics file\n",
    " \n",
    " ### Issue discovered in this step\n",
    " When merging the Interval Data dataset and Event/Proxy Day dataset, I found that the “date” columns have different data types: “date & hour” in Interval Data, “date” in Event/Proxy Day dataset. To solve this, I synchronized the type of data to “date’ type and merged two datasets. \n",
    " "
   ]
  },
  {
   "cell_type": "code",
   "execution_count": 1,
   "id": "af98deb5",
   "metadata": {
    "execution": {
     "iopub.execute_input": "2022-05-13T17:02:01.871757Z",
     "iopub.status.busy": "2022-05-13T17:02:01.870570Z",
     "iopub.status.idle": "2022-05-13T17:02:01.889315Z",
     "shell.execute_reply": "2022-05-13T17:02:01.889977Z",
     "shell.execute_reply.started": "2022-05-13T16:55:22.912245Z"
    },
    "papermill": {
     "duration": 0.0487,
     "end_time": "2022-05-13T17:02:01.890288",
     "exception": false,
     "start_time": "2022-05-13T17:02:01.841588",
     "status": "completed"
    },
    "tags": []
   },
   "outputs": [
    {
     "name": "stdout",
     "output_type": "stream",
     "text": [
      "/kaggle/input/ri-test/Master data file.csv\n"
     ]
    }
   ],
   "source": [
    "import numpy as np \n",
    "import pandas as pd \n",
    "\n",
    "import os\n",
    "for dirname, _, filenames in os.walk('/kaggle/input'):\n",
    "    for filename in filenames:\n",
    "        print(os.path.join(dirname, filename))\n",
    "        \n",
    "import matplotlib.pyplot as plt\n",
    "plt.close(\"all\")"
   ]
  },
  {
   "cell_type": "markdown",
   "id": "bfa4a16e",
   "metadata": {
    "papermill": {
     "duration": 0.026726,
     "end_time": "2022-05-13T17:02:01.944889",
     "exception": false,
     "start_time": "2022-05-13T17:02:01.918163",
     "status": "completed"
    },
    "tags": []
   },
   "source": [
    "## Step 2: Data cleaning and validation\n",
    " 1. Perform basic data cleaning and validation checks. Check for the following:\n",
    "  - Duplicates\n",
    "  - Missing values\n",
    "  - Outliers\n",
    " 2. Document all data issues\n"
   ]
  },
  {
   "cell_type": "code",
   "execution_count": 2,
   "id": "6256ebbd",
   "metadata": {
    "execution": {
     "iopub.execute_input": "2022-05-13T17:02:02.002195Z",
     "iopub.status.busy": "2022-05-13T17:02:02.001571Z",
     "iopub.status.idle": "2022-05-13T17:02:02.207812Z",
     "shell.execute_reply": "2022-05-13T17:02:02.207206Z",
     "shell.execute_reply.started": "2022-05-13T16:55:23.333337Z"
    },
    "papermill": {
     "duration": 0.236178,
     "end_time": "2022-05-13T17:02:02.207938",
     "exception": false,
     "start_time": "2022-05-13T17:02:01.971760",
     "status": "completed"
    },
    "tags": []
   },
   "outputs": [
    {
     "data": {
      "text/html": [
       "<div>\n",
       "<style scoped>\n",
       "    .dataframe tbody tr th:only-of-type {\n",
       "        vertical-align: middle;\n",
       "    }\n",
       "\n",
       "    .dataframe tbody tr th {\n",
       "        vertical-align: top;\n",
       "    }\n",
       "\n",
       "    .dataframe thead th {\n",
       "        text-align: right;\n",
       "    }\n",
       "</style>\n",
       "<table border=\"1\" class=\"dataframe\">\n",
       "  <thead>\n",
       "    <tr style=\"text-align: right;\">\n",
       "      <th></th>\n",
       "      <th>date</th>\n",
       "      <th>customer_id</th>\n",
       "      <th>kw1</th>\n",
       "      <th>kw2</th>\n",
       "      <th>kw3</th>\n",
       "      <th>kw4</th>\n",
       "      <th>kw5</th>\n",
       "      <th>kw6</th>\n",
       "      <th>kw7</th>\n",
       "      <th>kw8</th>\n",
       "      <th>...</th>\n",
       "      <th>kw20</th>\n",
       "      <th>kw21</th>\n",
       "      <th>kw22</th>\n",
       "      <th>kw23</th>\n",
       "      <th>kw24</th>\n",
       "      <th>obs</th>\n",
       "      <th>treatment</th>\n",
       "      <th>Customer Characteristics.customer_id</th>\n",
       "      <th>Events and Proxy Days.event_day</th>\n",
       "      <th>Events and Proxy Days.proxy_day</th>\n",
       "    </tr>\n",
       "  </thead>\n",
       "  <tbody>\n",
       "    <tr>\n",
       "      <th>0</th>\n",
       "      <td>8/30/2017</td>\n",
       "      <td>4.0</td>\n",
       "      <td>0.421878</td>\n",
       "      <td>0.391057</td>\n",
       "      <td>0.697558</td>\n",
       "      <td>0.745793</td>\n",
       "      <td>0.591222</td>\n",
       "      <td>0.464849</td>\n",
       "      <td>1.379117</td>\n",
       "      <td>1.377710</td>\n",
       "      <td>...</td>\n",
       "      <td>6.980206</td>\n",
       "      <td>3.504141</td>\n",
       "      <td>1.902951</td>\n",
       "      <td>2.131377</td>\n",
       "      <td>1.154995</td>\n",
       "      <td>17.0</td>\n",
       "      <td>0.0</td>\n",
       "      <td>4.0</td>\n",
       "      <td>1.0</td>\n",
       "      <td>0.0</td>\n",
       "    </tr>\n",
       "    <tr>\n",
       "      <th>1</th>\n",
       "      <td>8/30/2017</td>\n",
       "      <td>13.0</td>\n",
       "      <td>0.930054</td>\n",
       "      <td>1.199772</td>\n",
       "      <td>0.124829</td>\n",
       "      <td>0.663357</td>\n",
       "      <td>0.362364</td>\n",
       "      <td>0.259349</td>\n",
       "      <td>0.505622</td>\n",
       "      <td>0.632251</td>\n",
       "      <td>...</td>\n",
       "      <td>1.071498</td>\n",
       "      <td>0.659677</td>\n",
       "      <td>0.931382</td>\n",
       "      <td>1.009175</td>\n",
       "      <td>0.717402</td>\n",
       "      <td>17.0</td>\n",
       "      <td>0.0</td>\n",
       "      <td>13.0</td>\n",
       "      <td>1.0</td>\n",
       "      <td>0.0</td>\n",
       "    </tr>\n",
       "    <tr>\n",
       "      <th>2</th>\n",
       "      <td>8/30/2017</td>\n",
       "      <td>26.0</td>\n",
       "      <td>1.519272</td>\n",
       "      <td>0.503459</td>\n",
       "      <td>0.486698</td>\n",
       "      <td>0.595338</td>\n",
       "      <td>0.818720</td>\n",
       "      <td>0.534207</td>\n",
       "      <td>1.312676</td>\n",
       "      <td>1.032711</td>\n",
       "      <td>...</td>\n",
       "      <td>1.875443</td>\n",
       "      <td>1.297382</td>\n",
       "      <td>1.172828</td>\n",
       "      <td>1.720406</td>\n",
       "      <td>2.803832</td>\n",
       "      <td>17.0</td>\n",
       "      <td>0.0</td>\n",
       "      <td>26.0</td>\n",
       "      <td>1.0</td>\n",
       "      <td>0.0</td>\n",
       "    </tr>\n",
       "    <tr>\n",
       "      <th>3</th>\n",
       "      <td>8/28/2017</td>\n",
       "      <td>4.0</td>\n",
       "      <td>0.946971</td>\n",
       "      <td>0.849843</td>\n",
       "      <td>0.952280</td>\n",
       "      <td>0.867926</td>\n",
       "      <td>0.786561</td>\n",
       "      <td>0.398582</td>\n",
       "      <td>0.434940</td>\n",
       "      <td>0.950535</td>\n",
       "      <td>...</td>\n",
       "      <td>4.319295</td>\n",
       "      <td>2.923137</td>\n",
       "      <td>1.441674</td>\n",
       "      <td>1.298640</td>\n",
       "      <td>1.300995</td>\n",
       "      <td>17.0</td>\n",
       "      <td>0.0</td>\n",
       "      <td>4.0</td>\n",
       "      <td>1.0</td>\n",
       "      <td>0.0</td>\n",
       "    </tr>\n",
       "    <tr>\n",
       "      <th>4</th>\n",
       "      <td>8/28/2017</td>\n",
       "      <td>13.0</td>\n",
       "      <td>0.244519</td>\n",
       "      <td>0.455644</td>\n",
       "      <td>0.492013</td>\n",
       "      <td>0.282580</td>\n",
       "      <td>0.286353</td>\n",
       "      <td>0.167478</td>\n",
       "      <td>1.126074</td>\n",
       "      <td>0.625812</td>\n",
       "      <td>...</td>\n",
       "      <td>0.280929</td>\n",
       "      <td>0.342930</td>\n",
       "      <td>0.885010</td>\n",
       "      <td>0.468562</td>\n",
       "      <td>0.875257</td>\n",
       "      <td>17.0</td>\n",
       "      <td>0.0</td>\n",
       "      <td>13.0</td>\n",
       "      <td>1.0</td>\n",
       "      <td>0.0</td>\n",
       "    </tr>\n",
       "  </tbody>\n",
       "</table>\n",
       "<p>5 rows × 31 columns</p>\n",
       "</div>"
      ],
      "text/plain": [
       "        date  customer_id       kw1       kw2       kw3       kw4       kw5  \\\n",
       "0  8/30/2017          4.0  0.421878  0.391057  0.697558  0.745793  0.591222   \n",
       "1  8/30/2017         13.0  0.930054  1.199772  0.124829  0.663357  0.362364   \n",
       "2  8/30/2017         26.0  1.519272  0.503459  0.486698  0.595338  0.818720   \n",
       "3  8/28/2017          4.0  0.946971  0.849843  0.952280  0.867926  0.786561   \n",
       "4  8/28/2017         13.0  0.244519  0.455644  0.492013  0.282580  0.286353   \n",
       "\n",
       "        kw6       kw7       kw8  ...      kw20      kw21      kw22      kw23  \\\n",
       "0  0.464849  1.379117  1.377710  ...  6.980206  3.504141  1.902951  2.131377   \n",
       "1  0.259349  0.505622  0.632251  ...  1.071498  0.659677  0.931382  1.009175   \n",
       "2  0.534207  1.312676  1.032711  ...  1.875443  1.297382  1.172828  1.720406   \n",
       "3  0.398582  0.434940  0.950535  ...  4.319295  2.923137  1.441674  1.298640   \n",
       "4  0.167478  1.126074  0.625812  ...  0.280929  0.342930  0.885010  0.468562   \n",
       "\n",
       "       kw24   obs  treatment  Customer Characteristics.customer_id  \\\n",
       "0  1.154995  17.0        0.0                                   4.0   \n",
       "1  0.717402  17.0        0.0                                  13.0   \n",
       "2  2.803832  17.0        0.0                                  26.0   \n",
       "3  1.300995  17.0        0.0                                   4.0   \n",
       "4  0.875257  17.0        0.0                                  13.0   \n",
       "\n",
       "   Events and Proxy Days.event_day  Events and Proxy Days.proxy_day  \n",
       "0                              1.0                              0.0  \n",
       "1                              1.0                              0.0  \n",
       "2                              1.0                              0.0  \n",
       "3                              1.0                              0.0  \n",
       "4                              1.0                              0.0  \n",
       "\n",
       "[5 rows x 31 columns]"
      ]
     },
     "execution_count": 2,
     "metadata": {},
     "output_type": "execute_result"
    }
   ],
   "source": [
    "#Import the merged dataset\n",
    "data = pd.read_csv('/kaggle/input/ri-test/Master data file.csv')\n",
    "data.head()"
   ]
  },
  {
   "cell_type": "markdown",
   "id": "25a939fd",
   "metadata": {
    "papermill": {
     "duration": 0.026794,
     "end_time": "2022-05-13T17:02:02.261838",
     "exception": false,
     "start_time": "2022-05-13T17:02:02.235044",
     "status": "completed"
    },
    "tags": []
   },
   "source": [
    "### Drop missing value"
   ]
  },
  {
   "cell_type": "code",
   "execution_count": 3,
   "id": "72789ffa",
   "metadata": {
    "execution": {
     "iopub.execute_input": "2022-05-13T17:02:02.323117Z",
     "iopub.status.busy": "2022-05-13T17:02:02.322475Z",
     "iopub.status.idle": "2022-05-13T17:02:02.357867Z",
     "shell.execute_reply": "2022-05-13T17:02:02.358425Z",
     "shell.execute_reply.started": "2022-05-13T16:55:23.604542Z"
    },
    "papermill": {
     "duration": 0.06981,
     "end_time": "2022-05-13T17:02:02.358571",
     "exception": false,
     "start_time": "2022-05-13T17:02:02.288761",
     "status": "completed"
    },
    "tags": []
   },
   "outputs": [
    {
     "data": {
      "text/html": [
       "<div>\n",
       "<style scoped>\n",
       "    .dataframe tbody tr th:only-of-type {\n",
       "        vertical-align: middle;\n",
       "    }\n",
       "\n",
       "    .dataframe tbody tr th {\n",
       "        vertical-align: top;\n",
       "    }\n",
       "\n",
       "    .dataframe thead th {\n",
       "        text-align: right;\n",
       "    }\n",
       "</style>\n",
       "<table border=\"1\" class=\"dataframe\">\n",
       "  <thead>\n",
       "    <tr style=\"text-align: right;\">\n",
       "      <th></th>\n",
       "      <th>date</th>\n",
       "      <th>customer_id</th>\n",
       "      <th>kw1</th>\n",
       "      <th>kw2</th>\n",
       "      <th>kw3</th>\n",
       "      <th>kw4</th>\n",
       "      <th>kw5</th>\n",
       "      <th>kw6</th>\n",
       "      <th>kw7</th>\n",
       "      <th>kw8</th>\n",
       "      <th>...</th>\n",
       "      <th>kw20</th>\n",
       "      <th>kw21</th>\n",
       "      <th>kw22</th>\n",
       "      <th>kw23</th>\n",
       "      <th>kw24</th>\n",
       "      <th>obs</th>\n",
       "      <th>treatment</th>\n",
       "      <th>Customer Characteristics.customer_id</th>\n",
       "      <th>Events and Proxy Days.event_day</th>\n",
       "      <th>Events and Proxy Days.proxy_day</th>\n",
       "    </tr>\n",
       "  </thead>\n",
       "  <tbody>\n",
       "    <tr>\n",
       "      <th>0</th>\n",
       "      <td>False</td>\n",
       "      <td>False</td>\n",
       "      <td>False</td>\n",
       "      <td>False</td>\n",
       "      <td>False</td>\n",
       "      <td>False</td>\n",
       "      <td>False</td>\n",
       "      <td>False</td>\n",
       "      <td>False</td>\n",
       "      <td>False</td>\n",
       "      <td>...</td>\n",
       "      <td>False</td>\n",
       "      <td>False</td>\n",
       "      <td>False</td>\n",
       "      <td>False</td>\n",
       "      <td>False</td>\n",
       "      <td>False</td>\n",
       "      <td>False</td>\n",
       "      <td>False</td>\n",
       "      <td>False</td>\n",
       "      <td>False</td>\n",
       "    </tr>\n",
       "    <tr>\n",
       "      <th>1</th>\n",
       "      <td>False</td>\n",
       "      <td>False</td>\n",
       "      <td>False</td>\n",
       "      <td>False</td>\n",
       "      <td>False</td>\n",
       "      <td>False</td>\n",
       "      <td>False</td>\n",
       "      <td>False</td>\n",
       "      <td>False</td>\n",
       "      <td>False</td>\n",
       "      <td>...</td>\n",
       "      <td>False</td>\n",
       "      <td>False</td>\n",
       "      <td>False</td>\n",
       "      <td>False</td>\n",
       "      <td>False</td>\n",
       "      <td>False</td>\n",
       "      <td>False</td>\n",
       "      <td>False</td>\n",
       "      <td>False</td>\n",
       "      <td>False</td>\n",
       "    </tr>\n",
       "    <tr>\n",
       "      <th>2</th>\n",
       "      <td>False</td>\n",
       "      <td>False</td>\n",
       "      <td>False</td>\n",
       "      <td>False</td>\n",
       "      <td>False</td>\n",
       "      <td>False</td>\n",
       "      <td>False</td>\n",
       "      <td>False</td>\n",
       "      <td>False</td>\n",
       "      <td>False</td>\n",
       "      <td>...</td>\n",
       "      <td>False</td>\n",
       "      <td>False</td>\n",
       "      <td>False</td>\n",
       "      <td>False</td>\n",
       "      <td>False</td>\n",
       "      <td>False</td>\n",
       "      <td>False</td>\n",
       "      <td>False</td>\n",
       "      <td>False</td>\n",
       "      <td>False</td>\n",
       "    </tr>\n",
       "    <tr>\n",
       "      <th>3</th>\n",
       "      <td>False</td>\n",
       "      <td>False</td>\n",
       "      <td>False</td>\n",
       "      <td>False</td>\n",
       "      <td>False</td>\n",
       "      <td>False</td>\n",
       "      <td>False</td>\n",
       "      <td>False</td>\n",
       "      <td>False</td>\n",
       "      <td>False</td>\n",
       "      <td>...</td>\n",
       "      <td>False</td>\n",
       "      <td>False</td>\n",
       "      <td>False</td>\n",
       "      <td>False</td>\n",
       "      <td>False</td>\n",
       "      <td>False</td>\n",
       "      <td>False</td>\n",
       "      <td>False</td>\n",
       "      <td>False</td>\n",
       "      <td>False</td>\n",
       "    </tr>\n",
       "    <tr>\n",
       "      <th>4</th>\n",
       "      <td>False</td>\n",
       "      <td>False</td>\n",
       "      <td>False</td>\n",
       "      <td>False</td>\n",
       "      <td>False</td>\n",
       "      <td>False</td>\n",
       "      <td>False</td>\n",
       "      <td>False</td>\n",
       "      <td>False</td>\n",
       "      <td>False</td>\n",
       "      <td>...</td>\n",
       "      <td>False</td>\n",
       "      <td>False</td>\n",
       "      <td>False</td>\n",
       "      <td>False</td>\n",
       "      <td>False</td>\n",
       "      <td>False</td>\n",
       "      <td>False</td>\n",
       "      <td>False</td>\n",
       "      <td>False</td>\n",
       "      <td>False</td>\n",
       "    </tr>\n",
       "    <tr>\n",
       "      <th>...</th>\n",
       "      <td>...</td>\n",
       "      <td>...</td>\n",
       "      <td>...</td>\n",
       "      <td>...</td>\n",
       "      <td>...</td>\n",
       "      <td>...</td>\n",
       "      <td>...</td>\n",
       "      <td>...</td>\n",
       "      <td>...</td>\n",
       "      <td>...</td>\n",
       "      <td>...</td>\n",
       "      <td>...</td>\n",
       "      <td>...</td>\n",
       "      <td>...</td>\n",
       "      <td>...</td>\n",
       "      <td>...</td>\n",
       "      <td>...</td>\n",
       "      <td>...</td>\n",
       "      <td>...</td>\n",
       "      <td>...</td>\n",
       "      <td>...</td>\n",
       "    </tr>\n",
       "    <tr>\n",
       "      <th>16587</th>\n",
       "      <td>False</td>\n",
       "      <td>False</td>\n",
       "      <td>False</td>\n",
       "      <td>False</td>\n",
       "      <td>False</td>\n",
       "      <td>False</td>\n",
       "      <td>False</td>\n",
       "      <td>False</td>\n",
       "      <td>False</td>\n",
       "      <td>False</td>\n",
       "      <td>...</td>\n",
       "      <td>False</td>\n",
       "      <td>False</td>\n",
       "      <td>False</td>\n",
       "      <td>False</td>\n",
       "      <td>False</td>\n",
       "      <td>False</td>\n",
       "      <td>False</td>\n",
       "      <td>False</td>\n",
       "      <td>False</td>\n",
       "      <td>False</td>\n",
       "    </tr>\n",
       "    <tr>\n",
       "      <th>16588</th>\n",
       "      <td>False</td>\n",
       "      <td>False</td>\n",
       "      <td>False</td>\n",
       "      <td>False</td>\n",
       "      <td>False</td>\n",
       "      <td>False</td>\n",
       "      <td>False</td>\n",
       "      <td>False</td>\n",
       "      <td>False</td>\n",
       "      <td>False</td>\n",
       "      <td>...</td>\n",
       "      <td>False</td>\n",
       "      <td>False</td>\n",
       "      <td>False</td>\n",
       "      <td>False</td>\n",
       "      <td>False</td>\n",
       "      <td>False</td>\n",
       "      <td>False</td>\n",
       "      <td>False</td>\n",
       "      <td>False</td>\n",
       "      <td>False</td>\n",
       "    </tr>\n",
       "    <tr>\n",
       "      <th>16590</th>\n",
       "      <td>False</td>\n",
       "      <td>False</td>\n",
       "      <td>False</td>\n",
       "      <td>False</td>\n",
       "      <td>False</td>\n",
       "      <td>False</td>\n",
       "      <td>False</td>\n",
       "      <td>False</td>\n",
       "      <td>False</td>\n",
       "      <td>False</td>\n",
       "      <td>...</td>\n",
       "      <td>False</td>\n",
       "      <td>False</td>\n",
       "      <td>False</td>\n",
       "      <td>False</td>\n",
       "      <td>False</td>\n",
       "      <td>False</td>\n",
       "      <td>False</td>\n",
       "      <td>False</td>\n",
       "      <td>False</td>\n",
       "      <td>False</td>\n",
       "    </tr>\n",
       "    <tr>\n",
       "      <th>16591</th>\n",
       "      <td>False</td>\n",
       "      <td>False</td>\n",
       "      <td>False</td>\n",
       "      <td>False</td>\n",
       "      <td>False</td>\n",
       "      <td>False</td>\n",
       "      <td>False</td>\n",
       "      <td>False</td>\n",
       "      <td>False</td>\n",
       "      <td>False</td>\n",
       "      <td>...</td>\n",
       "      <td>False</td>\n",
       "      <td>False</td>\n",
       "      <td>False</td>\n",
       "      <td>False</td>\n",
       "      <td>False</td>\n",
       "      <td>False</td>\n",
       "      <td>False</td>\n",
       "      <td>False</td>\n",
       "      <td>False</td>\n",
       "      <td>False</td>\n",
       "    </tr>\n",
       "    <tr>\n",
       "      <th>16592</th>\n",
       "      <td>False</td>\n",
       "      <td>False</td>\n",
       "      <td>False</td>\n",
       "      <td>False</td>\n",
       "      <td>False</td>\n",
       "      <td>False</td>\n",
       "      <td>False</td>\n",
       "      <td>False</td>\n",
       "      <td>False</td>\n",
       "      <td>False</td>\n",
       "      <td>...</td>\n",
       "      <td>False</td>\n",
       "      <td>False</td>\n",
       "      <td>False</td>\n",
       "      <td>False</td>\n",
       "      <td>False</td>\n",
       "      <td>False</td>\n",
       "      <td>False</td>\n",
       "      <td>False</td>\n",
       "      <td>False</td>\n",
       "      <td>False</td>\n",
       "    </tr>\n",
       "  </tbody>\n",
       "</table>\n",
       "<p>14618 rows × 31 columns</p>\n",
       "</div>"
      ],
      "text/plain": [
       "        date  customer_id    kw1    kw2    kw3    kw4    kw5    kw6    kw7  \\\n",
       "0      False        False  False  False  False  False  False  False  False   \n",
       "1      False        False  False  False  False  False  False  False  False   \n",
       "2      False        False  False  False  False  False  False  False  False   \n",
       "3      False        False  False  False  False  False  False  False  False   \n",
       "4      False        False  False  False  False  False  False  False  False   \n",
       "...      ...          ...    ...    ...    ...    ...    ...    ...    ...   \n",
       "16587  False        False  False  False  False  False  False  False  False   \n",
       "16588  False        False  False  False  False  False  False  False  False   \n",
       "16590  False        False  False  False  False  False  False  False  False   \n",
       "16591  False        False  False  False  False  False  False  False  False   \n",
       "16592  False        False  False  False  False  False  False  False  False   \n",
       "\n",
       "         kw8  ...   kw20   kw21   kw22   kw23   kw24    obs  treatment  \\\n",
       "0      False  ...  False  False  False  False  False  False      False   \n",
       "1      False  ...  False  False  False  False  False  False      False   \n",
       "2      False  ...  False  False  False  False  False  False      False   \n",
       "3      False  ...  False  False  False  False  False  False      False   \n",
       "4      False  ...  False  False  False  False  False  False      False   \n",
       "...      ...  ...    ...    ...    ...    ...    ...    ...        ...   \n",
       "16587  False  ...  False  False  False  False  False  False      False   \n",
       "16588  False  ...  False  False  False  False  False  False      False   \n",
       "16590  False  ...  False  False  False  False  False  False      False   \n",
       "16591  False  ...  False  False  False  False  False  False      False   \n",
       "16592  False  ...  False  False  False  False  False  False      False   \n",
       "\n",
       "       Customer Characteristics.customer_id  Events and Proxy Days.event_day  \\\n",
       "0                                     False                            False   \n",
       "1                                     False                            False   \n",
       "2                                     False                            False   \n",
       "3                                     False                            False   \n",
       "4                                     False                            False   \n",
       "...                                     ...                              ...   \n",
       "16587                                 False                            False   \n",
       "16588                                 False                            False   \n",
       "16590                                 False                            False   \n",
       "16591                                 False                            False   \n",
       "16592                                 False                            False   \n",
       "\n",
       "       Events and Proxy Days.proxy_day  \n",
       "0                                False  \n",
       "1                                False  \n",
       "2                                False  \n",
       "3                                False  \n",
       "4                                False  \n",
       "...                                ...  \n",
       "16587                            False  \n",
       "16588                            False  \n",
       "16590                            False  \n",
       "16591                            False  \n",
       "16592                            False  \n",
       "\n",
       "[14618 rows x 31 columns]"
      ]
     },
     "execution_count": 3,
     "metadata": {},
     "output_type": "execute_result"
    }
   ],
   "source": [
    "#drop all missing values\n",
    "df= data.dropna() \n",
    "\n",
    "#Make sure the missing values are dropped\n",
    "df.isna()"
   ]
  },
  {
   "cell_type": "markdown",
   "id": "cdba3044",
   "metadata": {
    "papermill": {
     "duration": 0.027888,
     "end_time": "2022-05-13T17:02:02.414285",
     "exception": false,
     "start_time": "2022-05-13T17:02:02.386397",
     "status": "completed"
    },
    "tags": []
   },
   "source": [
    "### Detect & remove outliers \n",
    "\n",
    "Outliers are identified and eliminated in Python. 128 outlier records are found among customers with abnormally high electricity demand. I think that these customers could be big commercial establishments, e.g., shopping malls, and that their behaviors are not price-sensitive. Including outliers would severely bias the result magnitude-wise. "
   ]
  },
  {
   "cell_type": "code",
   "execution_count": 4,
   "id": "39657218",
   "metadata": {
    "execution": {
     "iopub.execute_input": "2022-05-13T17:02:02.478435Z",
     "iopub.status.busy": "2022-05-13T17:02:02.473225Z",
     "iopub.status.idle": "2022-05-13T17:02:03.459667Z",
     "shell.execute_reply": "2022-05-13T17:02:03.458993Z",
     "shell.execute_reply.started": "2022-05-13T16:55:23.991417Z"
    },
    "papermill": {
     "duration": 1.017336,
     "end_time": "2022-05-13T17:02:03.459824",
     "exception": false,
     "start_time": "2022-05-13T17:02:02.442488",
     "status": "completed"
    },
    "tags": []
   },
   "outputs": [
    {
     "name": "stdout",
     "output_type": "stream",
     "text": [
      "128\n"
     ]
    }
   ],
   "source": [
    "#Identify the outliers using Zscore\n",
    "col=['kw1','kw2','kw3','kw4','kw5','kw6','kw7','kw8','kw9','kw10','kw11','kw12','kw13','kw14','kw15','kw16','kw17','kw18','kw19','kw20','kw21','kw22','kw23','kw24']\n",
    "from scipy import stats\n",
    "outlier=df[(np.abs(stats.zscore(df[col]))>3).all(axis=1)]\n",
    "df.describe()\n",
    "\n",
    "outlier.describe()\n",
    "#The minimum outlier electricity usage is much higher companring to the 75 percentile of the raw dataset.\n",
    "\n",
    "#Remove outliers using Z-score\n",
    "df=df[(np.abs(stats.zscore(df[col])) < 3).all(axis=1)]\n",
    "#Number of outliers\n",
    "print(14618-14490)\n"
   ]
  },
  {
   "cell_type": "markdown",
   "id": "be066e47",
   "metadata": {
    "papermill": {
     "duration": 0.027949,
     "end_time": "2022-05-13T17:02:03.516226",
     "exception": false,
     "start_time": "2022-05-13T17:02:03.488277",
     "status": "completed"
    },
    "tags": []
   },
   "source": [
    "### Find duplicates\n",
    "Duplicates are all in control group. Including the duplicates may lead to the false conclusion regarding the impact (upward bias). \n",
    " \n"
   ]
  },
  {
   "cell_type": "code",
   "execution_count": 5,
   "id": "1d2d6aac",
   "metadata": {
    "execution": {
     "iopub.execute_input": "2022-05-13T17:02:03.579277Z",
     "iopub.status.busy": "2022-05-13T17:02:03.578454Z",
     "iopub.status.idle": "2022-05-13T17:02:03.642548Z",
     "shell.execute_reply": "2022-05-13T17:02:03.641501Z",
     "shell.execute_reply.started": "2022-05-13T16:55:25.049820Z"
    },
    "papermill": {
     "duration": 0.098452,
     "end_time": "2022-05-13T17:02:03.642693",
     "exception": false,
     "start_time": "2022-05-13T17:02:03.544241",
     "status": "completed"
    },
    "tags": []
   },
   "outputs": [
    {
     "data": {
      "text/html": [
       "<div>\n",
       "<style scoped>\n",
       "    .dataframe tbody tr th:only-of-type {\n",
       "        vertical-align: middle;\n",
       "    }\n",
       "\n",
       "    .dataframe tbody tr th {\n",
       "        vertical-align: top;\n",
       "    }\n",
       "\n",
       "    .dataframe thead th {\n",
       "        text-align: right;\n",
       "    }\n",
       "</style>\n",
       "<table border=\"1\" class=\"dataframe\">\n",
       "  <thead>\n",
       "    <tr style=\"text-align: right;\">\n",
       "      <th></th>\n",
       "      <th>date</th>\n",
       "      <th>customer_id</th>\n",
       "      <th>kw1</th>\n",
       "      <th>kw2</th>\n",
       "      <th>kw3</th>\n",
       "      <th>kw4</th>\n",
       "      <th>kw5</th>\n",
       "      <th>kw6</th>\n",
       "      <th>kw7</th>\n",
       "      <th>kw8</th>\n",
       "      <th>...</th>\n",
       "      <th>kw21</th>\n",
       "      <th>kw22</th>\n",
       "      <th>kw23</th>\n",
       "      <th>kw24</th>\n",
       "      <th>obs</th>\n",
       "      <th>treatment</th>\n",
       "      <th>Customer Characteristics.customer_id</th>\n",
       "      <th>Events and Proxy Days.event_day</th>\n",
       "      <th>Events and Proxy Days.proxy_day</th>\n",
       "      <th>duplicate</th>\n",
       "    </tr>\n",
       "  </thead>\n",
       "  <tbody>\n",
       "    <tr>\n",
       "      <th>16581</th>\n",
       "      <td>7/10/2017</td>\n",
       "      <td>537.0</td>\n",
       "      <td>1.257235</td>\n",
       "      <td>0.780834</td>\n",
       "      <td>0.683720</td>\n",
       "      <td>1.341019</td>\n",
       "      <td>0.780020</td>\n",
       "      <td>1.319747</td>\n",
       "      <td>0.582926</td>\n",
       "      <td>1.073211</td>\n",
       "      <td>...</td>\n",
       "      <td>1.726862</td>\n",
       "      <td>0.870990</td>\n",
       "      <td>0.728709</td>\n",
       "      <td>0.875631</td>\n",
       "      <td>17.0</td>\n",
       "      <td>0.0</td>\n",
       "      <td>537.0</td>\n",
       "      <td>0.0</td>\n",
       "      <td>1.0</td>\n",
       "      <td>True</td>\n",
       "    </tr>\n",
       "    <tr>\n",
       "      <th>16582</th>\n",
       "      <td>7/7/2017</td>\n",
       "      <td>537.0</td>\n",
       "      <td>0.611946</td>\n",
       "      <td>1.133382</td>\n",
       "      <td>1.335708</td>\n",
       "      <td>0.935780</td>\n",
       "      <td>0.621024</td>\n",
       "      <td>1.227500</td>\n",
       "      <td>0.398467</td>\n",
       "      <td>1.121254</td>\n",
       "      <td>...</td>\n",
       "      <td>2.472706</td>\n",
       "      <td>1.543151</td>\n",
       "      <td>1.206982</td>\n",
       "      <td>0.954630</td>\n",
       "      <td>17.0</td>\n",
       "      <td>0.0</td>\n",
       "      <td>537.0</td>\n",
       "      <td>1.0</td>\n",
       "      <td>0.0</td>\n",
       "      <td>True</td>\n",
       "    </tr>\n",
       "    <tr>\n",
       "      <th>16583</th>\n",
       "      <td>7/6/2017</td>\n",
       "      <td>537.0</td>\n",
       "      <td>0.844525</td>\n",
       "      <td>0.906608</td>\n",
       "      <td>0.529485</td>\n",
       "      <td>0.556184</td>\n",
       "      <td>1.036929</td>\n",
       "      <td>0.809029</td>\n",
       "      <td>1.317587</td>\n",
       "      <td>0.182341</td>\n",
       "      <td>...</td>\n",
       "      <td>1.262698</td>\n",
       "      <td>1.638205</td>\n",
       "      <td>0.815562</td>\n",
       "      <td>0.450662</td>\n",
       "      <td>17.0</td>\n",
       "      <td>0.0</td>\n",
       "      <td>537.0</td>\n",
       "      <td>1.0</td>\n",
       "      <td>0.0</td>\n",
       "      <td>True</td>\n",
       "    </tr>\n",
       "    <tr>\n",
       "      <th>16584</th>\n",
       "      <td>7/17/2017</td>\n",
       "      <td>537.0</td>\n",
       "      <td>0.888934</td>\n",
       "      <td>0.984481</td>\n",
       "      <td>1.047838</td>\n",
       "      <td>1.347119</td>\n",
       "      <td>1.015407</td>\n",
       "      <td>0.895796</td>\n",
       "      <td>0.597812</td>\n",
       "      <td>1.292828</td>\n",
       "      <td>...</td>\n",
       "      <td>1.386157</td>\n",
       "      <td>0.765488</td>\n",
       "      <td>0.731457</td>\n",
       "      <td>0.674856</td>\n",
       "      <td>17.0</td>\n",
       "      <td>0.0</td>\n",
       "      <td>537.0</td>\n",
       "      <td>0.0</td>\n",
       "      <td>1.0</td>\n",
       "      <td>True</td>\n",
       "    </tr>\n",
       "    <tr>\n",
       "      <th>16586</th>\n",
       "      <td>7/5/2017</td>\n",
       "      <td>537.0</td>\n",
       "      <td>0.933053</td>\n",
       "      <td>0.476952</td>\n",
       "      <td>0.682045</td>\n",
       "      <td>0.797217</td>\n",
       "      <td>0.499326</td>\n",
       "      <td>1.287049</td>\n",
       "      <td>0.974918</td>\n",
       "      <td>0.575717</td>\n",
       "      <td>...</td>\n",
       "      <td>1.168815</td>\n",
       "      <td>1.317059</td>\n",
       "      <td>0.720218</td>\n",
       "      <td>1.006809</td>\n",
       "      <td>17.0</td>\n",
       "      <td>0.0</td>\n",
       "      <td>537.0</td>\n",
       "      <td>0.0</td>\n",
       "      <td>1.0</td>\n",
       "      <td>True</td>\n",
       "    </tr>\n",
       "    <tr>\n",
       "      <th>16587</th>\n",
       "      <td>7/10/2017</td>\n",
       "      <td>554.0</td>\n",
       "      <td>0.989085</td>\n",
       "      <td>1.124060</td>\n",
       "      <td>0.413396</td>\n",
       "      <td>0.548293</td>\n",
       "      <td>0.417268</td>\n",
       "      <td>0.773197</td>\n",
       "      <td>0.965287</td>\n",
       "      <td>0.705483</td>\n",
       "      <td>...</td>\n",
       "      <td>1.293732</td>\n",
       "      <td>1.114754</td>\n",
       "      <td>0.435019</td>\n",
       "      <td>0.139187</td>\n",
       "      <td>17.0</td>\n",
       "      <td>0.0</td>\n",
       "      <td>554.0</td>\n",
       "      <td>0.0</td>\n",
       "      <td>1.0</td>\n",
       "      <td>True</td>\n",
       "    </tr>\n",
       "    <tr>\n",
       "      <th>16588</th>\n",
       "      <td>7/17/2017</td>\n",
       "      <td>554.0</td>\n",
       "      <td>0.690973</td>\n",
       "      <td>0.811362</td>\n",
       "      <td>0.929961</td>\n",
       "      <td>0.754723</td>\n",
       "      <td>0.458178</td>\n",
       "      <td>0.648468</td>\n",
       "      <td>0.693719</td>\n",
       "      <td>0.868608</td>\n",
       "      <td>...</td>\n",
       "      <td>1.243153</td>\n",
       "      <td>1.172165</td>\n",
       "      <td>0.480182</td>\n",
       "      <td>1.062135</td>\n",
       "      <td>17.0</td>\n",
       "      <td>0.0</td>\n",
       "      <td>554.0</td>\n",
       "      <td>0.0</td>\n",
       "      <td>1.0</td>\n",
       "      <td>True</td>\n",
       "    </tr>\n",
       "    <tr>\n",
       "      <th>16590</th>\n",
       "      <td>7/7/2017</td>\n",
       "      <td>554.0</td>\n",
       "      <td>0.743086</td>\n",
       "      <td>1.088667</td>\n",
       "      <td>0.870166</td>\n",
       "      <td>0.300622</td>\n",
       "      <td>0.406392</td>\n",
       "      <td>0.912006</td>\n",
       "      <td>1.025133</td>\n",
       "      <td>2.307637</td>\n",
       "      <td>...</td>\n",
       "      <td>0.376940</td>\n",
       "      <td>0.555082</td>\n",
       "      <td>0.857465</td>\n",
       "      <td>0.284102</td>\n",
       "      <td>17.0</td>\n",
       "      <td>0.0</td>\n",
       "      <td>554.0</td>\n",
       "      <td>1.0</td>\n",
       "      <td>0.0</td>\n",
       "      <td>True</td>\n",
       "    </tr>\n",
       "    <tr>\n",
       "      <th>16591</th>\n",
       "      <td>7/6/2017</td>\n",
       "      <td>554.0</td>\n",
       "      <td>0.432723</td>\n",
       "      <td>0.619231</td>\n",
       "      <td>0.710607</td>\n",
       "      <td>0.914294</td>\n",
       "      <td>0.157627</td>\n",
       "      <td>0.329467</td>\n",
       "      <td>0.908624</td>\n",
       "      <td>0.588281</td>\n",
       "      <td>...</td>\n",
       "      <td>0.363210</td>\n",
       "      <td>0.884283</td>\n",
       "      <td>0.908562</td>\n",
       "      <td>0.523181</td>\n",
       "      <td>17.0</td>\n",
       "      <td>0.0</td>\n",
       "      <td>554.0</td>\n",
       "      <td>1.0</td>\n",
       "      <td>0.0</td>\n",
       "      <td>True</td>\n",
       "    </tr>\n",
       "    <tr>\n",
       "      <th>16592</th>\n",
       "      <td>7/5/2017</td>\n",
       "      <td>554.0</td>\n",
       "      <td>0.691436</td>\n",
       "      <td>0.900868</td>\n",
       "      <td>0.519753</td>\n",
       "      <td>0.272500</td>\n",
       "      <td>0.445110</td>\n",
       "      <td>0.850959</td>\n",
       "      <td>0.520807</td>\n",
       "      <td>1.110923</td>\n",
       "      <td>...</td>\n",
       "      <td>0.250593</td>\n",
       "      <td>1.328691</td>\n",
       "      <td>0.517904</td>\n",
       "      <td>0.562157</td>\n",
       "      <td>17.0</td>\n",
       "      <td>0.0</td>\n",
       "      <td>554.0</td>\n",
       "      <td>0.0</td>\n",
       "      <td>1.0</td>\n",
       "      <td>True</td>\n",
       "    </tr>\n",
       "  </tbody>\n",
       "</table>\n",
       "<p>10 rows × 32 columns</p>\n",
       "</div>"
      ],
      "text/plain": [
       "            date  customer_id       kw1       kw2       kw3       kw4  \\\n",
       "16581  7/10/2017        537.0  1.257235  0.780834  0.683720  1.341019   \n",
       "16582   7/7/2017        537.0  0.611946  1.133382  1.335708  0.935780   \n",
       "16583   7/6/2017        537.0  0.844525  0.906608  0.529485  0.556184   \n",
       "16584  7/17/2017        537.0  0.888934  0.984481  1.047838  1.347119   \n",
       "16586   7/5/2017        537.0  0.933053  0.476952  0.682045  0.797217   \n",
       "16587  7/10/2017        554.0  0.989085  1.124060  0.413396  0.548293   \n",
       "16588  7/17/2017        554.0  0.690973  0.811362  0.929961  0.754723   \n",
       "16590   7/7/2017        554.0  0.743086  1.088667  0.870166  0.300622   \n",
       "16591   7/6/2017        554.0  0.432723  0.619231  0.710607  0.914294   \n",
       "16592   7/5/2017        554.0  0.691436  0.900868  0.519753  0.272500   \n",
       "\n",
       "            kw5       kw6       kw7       kw8  ...      kw21      kw22  \\\n",
       "16581  0.780020  1.319747  0.582926  1.073211  ...  1.726862  0.870990   \n",
       "16582  0.621024  1.227500  0.398467  1.121254  ...  2.472706  1.543151   \n",
       "16583  1.036929  0.809029  1.317587  0.182341  ...  1.262698  1.638205   \n",
       "16584  1.015407  0.895796  0.597812  1.292828  ...  1.386157  0.765488   \n",
       "16586  0.499326  1.287049  0.974918  0.575717  ...  1.168815  1.317059   \n",
       "16587  0.417268  0.773197  0.965287  0.705483  ...  1.293732  1.114754   \n",
       "16588  0.458178  0.648468  0.693719  0.868608  ...  1.243153  1.172165   \n",
       "16590  0.406392  0.912006  1.025133  2.307637  ...  0.376940  0.555082   \n",
       "16591  0.157627  0.329467  0.908624  0.588281  ...  0.363210  0.884283   \n",
       "16592  0.445110  0.850959  0.520807  1.110923  ...  0.250593  1.328691   \n",
       "\n",
       "           kw23      kw24   obs  treatment  \\\n",
       "16581  0.728709  0.875631  17.0        0.0   \n",
       "16582  1.206982  0.954630  17.0        0.0   \n",
       "16583  0.815562  0.450662  17.0        0.0   \n",
       "16584  0.731457  0.674856  17.0        0.0   \n",
       "16586  0.720218  1.006809  17.0        0.0   \n",
       "16587  0.435019  0.139187  17.0        0.0   \n",
       "16588  0.480182  1.062135  17.0        0.0   \n",
       "16590  0.857465  0.284102  17.0        0.0   \n",
       "16591  0.908562  0.523181  17.0        0.0   \n",
       "16592  0.517904  0.562157  17.0        0.0   \n",
       "\n",
       "       Customer Characteristics.customer_id  Events and Proxy Days.event_day  \\\n",
       "16581                                 537.0                              0.0   \n",
       "16582                                 537.0                              1.0   \n",
       "16583                                 537.0                              1.0   \n",
       "16584                                 537.0                              0.0   \n",
       "16586                                 537.0                              0.0   \n",
       "16587                                 554.0                              0.0   \n",
       "16588                                 554.0                              0.0   \n",
       "16590                                 554.0                              1.0   \n",
       "16591                                 554.0                              1.0   \n",
       "16592                                 554.0                              0.0   \n",
       "\n",
       "       Events and Proxy Days.proxy_day  duplicate  \n",
       "16581                              1.0       True  \n",
       "16582                              0.0       True  \n",
       "16583                              0.0       True  \n",
       "16584                              1.0       True  \n",
       "16586                              1.0       True  \n",
       "16587                              1.0       True  \n",
       "16588                              1.0       True  \n",
       "16590                              0.0       True  \n",
       "16591                              0.0       True  \n",
       "16592                              1.0       True  \n",
       "\n",
       "[10 rows x 32 columns]"
      ]
     },
     "execution_count": 5,
     "metadata": {},
     "output_type": "execute_result"
    }
   ],
   "source": [
    "a=df.duplicated()\n",
    "df['duplicate']=a\n",
    "dup=df[df['duplicate']==True]\n",
    "dup\n"
   ]
  },
  {
   "cell_type": "markdown",
   "id": "8a4df4a6",
   "metadata": {
    "papermill": {
     "duration": 0.029234,
     "end_time": "2022-05-13T17:02:03.701834",
     "exception": false,
     "start_time": "2022-05-13T17:02:03.672600",
     "status": "completed"
    },
    "tags": []
   },
   "source": [
    "## Step 3: Calculate summary statistics \n",
    "Generate a table to report findings; format this table as you would in a final report\n",
    "\n",
    "The following metrics should be calculated and reported for treatment and control customers\n",
    "- Customer count\n",
    "- Total number of observations\n",
    "- Mean, and standard deviation of hourly electricity usage on proxy days during the event period\n"
   ]
  },
  {
   "cell_type": "code",
   "execution_count": 6,
   "id": "f12f4c47",
   "metadata": {
    "execution": {
     "iopub.execute_input": "2022-05-13T17:02:03.764468Z",
     "iopub.status.busy": "2022-05-13T17:02:03.763622Z",
     "iopub.status.idle": "2022-05-13T17:02:04.275457Z",
     "shell.execute_reply": "2022-05-13T17:02:04.274486Z",
     "shell.execute_reply.started": "2022-05-13T16:55:25.137788Z"
    },
    "papermill": {
     "duration": 0.544315,
     "end_time": "2022-05-13T17:02:04.275588",
     "exception": false,
     "start_time": "2022-05-13T17:02:03.731273",
     "status": "completed"
    },
    "tags": []
   },
   "outputs": [],
   "source": [
    "#Save a dataset \"cd\" with all 24 hours electricity usage\n",
    "df= df.drop_duplicates()\n",
    "cd=df\n",
    "df.to_csv('clean_data.csv', index=False)"
   ]
  },
  {
   "cell_type": "code",
   "execution_count": 7,
   "id": "473ac850",
   "metadata": {
    "execution": {
     "iopub.execute_input": "2022-05-13T17:02:04.344819Z",
     "iopub.status.busy": "2022-05-13T17:02:04.344164Z",
     "iopub.status.idle": "2022-05-13T17:02:04.510147Z",
     "shell.execute_reply": "2022-05-13T17:02:04.510641Z",
     "shell.execute_reply.started": "2022-05-13T16:55:25.733249Z"
    },
    "papermill": {
     "duration": 0.204384,
     "end_time": "2022-05-13T17:02:04.510825",
     "exception": false,
     "start_time": "2022-05-13T17:02:04.306441",
     "status": "completed"
    },
    "tags": []
   },
   "outputs": [],
   "source": [
    "# create a dataset df that only contains the event period electricity usage \n",
    "df= df.drop(['kw1','kw2','kw3','kw4','kw5','kw6','kw7','kw8','kw9','kw10','kw11','kw12','kw13','kw14','kw19','kw20','kw21','kw22','kw23','kw24'], axis=1)\n",
    "#Select event period hours\n",
    "col= ['kw15','kw16','kw17','kw18']\n",
    "#Create variable average hourly electricty usage = (kw15 + kw16 + kw17 + kw18)/4\n",
    "df['average']=df[col].mean(axis=1) \n",
    "\n",
    "df.to_csv('event_data.csv', index=False)"
   ]
  },
  {
   "cell_type": "code",
   "execution_count": 8,
   "id": "24180411",
   "metadata": {
    "execution": {
     "iopub.execute_input": "2022-05-13T17:02:04.593987Z",
     "iopub.status.busy": "2022-05-13T17:02:04.593157Z",
     "iopub.status.idle": "2022-05-13T17:02:04.603766Z",
     "shell.execute_reply": "2022-05-13T17:02:04.603208Z",
     "shell.execute_reply.started": "2022-05-13T16:55:25.952820Z"
    },
    "papermill": {
     "duration": 0.063311,
     "end_time": "2022-05-13T17:02:04.603892",
     "exception": false,
     "start_time": "2022-05-13T17:02:04.540581",
     "status": "completed"
    },
    "tags": []
   },
   "outputs": [
    {
     "name": "stdout",
     "output_type": "stream",
     "text": [
      "[16316.0    16\n",
      "33111.0    16\n",
      "71976.0    16\n",
      "39458.0    16\n",
      "31474.0    16\n",
      "           ..\n",
      "15924.0    16\n",
      "70323.0    16\n",
      "51840.0    16\n",
      "12451.0    16\n",
      "51244.0    16\n",
      "Name: customer_id, Length: 427, dtype: int64, 537.0      21\n",
      "554.0      21\n",
      "4.0        16\n",
      "27251.0    16\n",
      "69840.0    16\n",
      "           ..\n",
      "9830.0     16\n",
      "9695.0     16\n",
      "9433.0     16\n",
      "54850.0    16\n",
      "33085.0    16\n",
      "Name: customer_id, Length: 478, dtype: int64]\n",
      "[(6832, 13), (7658, 13)]\n"
     ]
    }
   ],
   "source": [
    "TM=df[df[\"treatment\"]>0]\n",
    "CT=df[df[\"treatment\"]<1]\n",
    "#head counts = length, treatment=427, control=478, the data is balanced.\n",
    "heads=[TM['customer_id'].value_counts(), CT['customer_id'].value_counts()]\n",
    "print(heads)\n",
    "#observations: treatment=6832, control=7658\n",
    "obs=[TM.shape,CT.shape]\n",
    "print(obs)"
   ]
  },
  {
   "cell_type": "code",
   "execution_count": 9,
   "id": "32403e0c",
   "metadata": {
    "execution": {
     "iopub.execute_input": "2022-05-13T17:02:04.670110Z",
     "iopub.status.busy": "2022-05-13T17:02:04.669456Z",
     "iopub.status.idle": "2022-05-13T17:02:04.675758Z",
     "shell.execute_reply": "2022-05-13T17:02:04.675085Z",
     "shell.execute_reply.started": "2022-05-13T16:55:26.798928Z"
    },
    "papermill": {
     "duration": 0.042255,
     "end_time": "2022-05-13T17:02:04.675889",
     "exception": false,
     "start_time": "2022-05-13T17:02:04.633634",
     "status": "completed"
    },
    "tags": []
   },
   "outputs": [
    {
     "name": "stdout",
     "output_type": "stream",
     "text": [
      "3.3474543982740967 1.7634681449628575\n",
      "3.2263821086458733 1.8405798097184658\n"
     ]
    }
   ],
   "source": [
    "#3.\tMean, and standard deviation of hourly electricity usage on proxy days during the event period\n",
    "#treatment group\n",
    "tm_px=TM[TM['Events and Proxy Days.proxy_day']>0]\n",
    "print(tm_px['average'].mean(),tm_px['average'].std())\n",
    "#control group \n",
    "ct_px=CT[CT['Events and Proxy Days.proxy_day']>0]\n",
    "print(ct_px['average'].mean(),ct_px['average'].std())"
   ]
  },
  {
   "cell_type": "markdown",
   "id": "24c26fd3",
   "metadata": {
    "papermill": {
     "duration": 0.03008,
     "end_time": "2022-05-13T17:02:04.736337",
     "exception": false,
     "start_time": "2022-05-13T17:02:04.706257",
     "status": "completed"
    },
    "tags": []
   },
   "source": [
    "||Treatment|Control|\n",
    "|--|-----|---|\n",
    "|Customer counts|427|478|\n",
    "|Observations|6832|7648|\n",
    "|Mean|3.35|3.23|\n",
    "|Standard Deviation|1.76|1.84|"
   ]
  },
  {
   "cell_type": "markdown",
   "id": "57bef393",
   "metadata": {
    "papermill": {
     "duration": 0.030513,
     "end_time": "2022-05-13T17:02:04.797350",
     "exception": false,
     "start_time": "2022-05-13T17:02:04.766837",
     "status": "completed"
    },
    "tags": []
   },
   "source": [
    "## Step 4: T-test\n",
    "Conduct a statistical T-test on the mean event period hourly usage data between treatment and control group on proxy days.\n"
   ]
  },
  {
   "cell_type": "code",
   "execution_count": 10,
   "id": "7ee86825",
   "metadata": {
    "execution": {
     "iopub.execute_input": "2022-05-13T17:02:04.867079Z",
     "iopub.status.busy": "2022-05-13T17:02:04.866421Z",
     "iopub.status.idle": "2022-05-13T17:02:04.868830Z",
     "shell.execute_reply": "2022-05-13T17:02:04.869313Z",
     "shell.execute_reply.started": "2022-05-13T16:55:29.020904Z"
    },
    "papermill": {
     "duration": 0.040937,
     "end_time": "2022-05-13T17:02:04.869463",
     "exception": false,
     "start_time": "2022-05-13T17:02:04.828526",
     "status": "completed"
    },
    "tags": []
   },
   "outputs": [
    {
     "data": {
      "text/plain": [
       "Ttest_indResult(statistic=2.469138251789255, pvalue=0.013574414112494059)"
      ]
     },
     "execution_count": 10,
     "metadata": {},
     "output_type": "execute_result"
    }
   ],
   "source": [
    "from scipy.stats import ttest_ind\n",
    "#Conduct a statistical T-test on the mean event period hourly usage data between treatment and control group on proxy days.\n",
    "tm_px_hu=tm_px[\"average\"]\n",
    "ct_px_hu=ct_px[\"average\"]\n",
    "ttest_ind(tm_px_hu, ct_px_hu)"
   ]
  },
  {
   "cell_type": "markdown",
   "id": "1f818d11",
   "metadata": {
    "papermill": {
     "duration": 0.030495,
     "end_time": "2022-05-13T17:02:04.930810",
     "exception": false,
     "start_time": "2022-05-13T17:02:04.900315",
     "status": "completed"
    },
    "tags": []
   },
   "source": [
    "\n",
    "T-test result has a P value 0.01457. This indicates that we are at least 99.8% confident about the treatment and control group equivalence on the proxy days, which validates the randomization process of the experiment."
   ]
  },
  {
   "cell_type": "markdown",
   "id": "e0a89fed",
   "metadata": {
    "papermill": {
     "duration": 0.030092,
     "end_time": "2022-05-13T17:02:04.991335",
     "exception": false,
     "start_time": "2022-05-13T17:02:04.961243",
     "status": "completed"
    },
    "tags": []
   },
   "source": [
    "## Graphs for Proxy and Event days\n",
    "\n"
   ]
  },
  {
   "cell_type": "code",
   "execution_count": 11,
   "id": "d3e0044f",
   "metadata": {
    "execution": {
     "iopub.execute_input": "2022-05-13T17:02:05.058369Z",
     "iopub.status.busy": "2022-05-13T17:02:05.057664Z",
     "iopub.status.idle": "2022-05-13T17:02:05.063598Z",
     "shell.execute_reply": "2022-05-13T17:02:05.063032Z",
     "shell.execute_reply.started": "2022-05-13T16:55:31.814163Z"
    },
    "papermill": {
     "duration": 0.0414,
     "end_time": "2022-05-13T17:02:05.063752",
     "exception": false,
     "start_time": "2022-05-13T17:02:05.022352",
     "status": "completed"
    },
    "tags": []
   },
   "outputs": [],
   "source": [
    "#Create two datasets: proxy days & event days\n",
    "px=cd[cd['Events and Proxy Days.proxy_day']>0]\n",
    "ev=cd[cd['Events and Proxy Days.proxy_day']<1]"
   ]
  },
  {
   "cell_type": "code",
   "execution_count": 12,
   "id": "dfa8281c",
   "metadata": {
    "execution": {
     "iopub.execute_input": "2022-05-13T17:02:05.142344Z",
     "iopub.status.busy": "2022-05-13T17:02:05.139727Z",
     "iopub.status.idle": "2022-05-13T17:02:05.560061Z",
     "shell.execute_reply": "2022-05-13T17:02:05.559437Z",
     "shell.execute_reply.started": "2022-05-13T16:55:32.431219Z"
    },
    "papermill": {
     "duration": 0.465523,
     "end_time": "2022-05-13T17:02:05.560181",
     "exception": false,
     "start_time": "2022-05-13T17:02:05.094658",
     "status": "completed"
    },
    "tags": []
   },
   "outputs": [
    {
     "data": {
      "text/plain": [
       "Text(0.5, 1.0, 'Average proxy day')"
      ]
     },
     "execution_count": 12,
     "metadata": {},
     "output_type": "execute_result"
    },
    {
     "data": {
      "image/png": "[encoded data removed]",
      "text/plain": [
       "<Figure size 720x360 with 1 Axes>"
      ]
     },
     "metadata": {
      "needs_background": "light"
     },
     "output_type": "display_data"
    }
   ],
   "source": [
    "#select columns needed for the graphs\n",
    "graph=['treatment','kw1','kw2','kw3','kw4','kw5','kw6','kw7','kw8','kw9','kw10','kw11','kw12','kw13','kw14','kw15','kw16','kw17','kw18','kw19','kw20','kw21','kw22','kw23','kw24']\n",
    "px=px[graph]\n",
    "ev=ev[graph]\n",
    "#proxy day treatment data\n",
    "px_tm = px[px['treatment']>0].describe()[1:2]\n",
    "#proxy day control data\n",
    "px_ct= px[px['treatment']<1].describe()[1:2]\n",
    "#Append proxy day treatment data and proxy day control data\n",
    "PX = px_tm.append(px_ct)\n",
    "PX.index=['treatment','control']\n",
    "\n",
    "#Proxy day graph\n",
    "PX=PX.drop(columns='treatment')\n",
    "PX=PX.transpose()\n",
    "import matplotlib.pyplot as plt\n",
    "plt.close(\"all\")\n",
    "labels=['0','1','2','3','4','5','6','7','8','9','10','11','12','13','14','15','16','17','18','19','20','21','22','23']\n",
    "ax=PX.plot(figsize=(10,5))\n",
    "ax.set_xticks(range(len(PX)))\n",
    "ax.set_xticklabels(labels, rotation=0,fontsize=12)\n",
    "plt.xlabel(\"hours\", fontsize=20)\n",
    "plt.ylabel(\"hourly demand (kW)\", fontsize=20)\n",
    "ax.legend(fontsize=20)\n",
    "ax.set_title('Average proxy day', fontsize=20)\n",
    "\n"
   ]
  },
  {
   "cell_type": "code",
   "execution_count": 13,
   "id": "d323b251",
   "metadata": {
    "execution": {
     "iopub.execute_input": "2022-05-13T17:02:05.634573Z",
     "iopub.status.busy": "2022-05-13T17:02:05.633927Z",
     "iopub.status.idle": "2022-05-13T17:02:06.007533Z",
     "shell.execute_reply": "2022-05-13T17:02:06.008034Z",
     "shell.execute_reply.started": "2022-05-13T16:55:32.934634Z"
    },
    "papermill": {
     "duration": 0.415948,
     "end_time": "2022-05-13T17:02:06.008195",
     "exception": false,
     "start_time": "2022-05-13T17:02:05.592247",
     "status": "completed"
    },
    "tags": []
   },
   "outputs": [
    {
     "data": {
      "text/plain": [
       "Text(0.5, 1.0, 'Average event day')"
      ]
     },
     "execution_count": 13,
     "metadata": {},
     "output_type": "execute_result"
    },
    {
     "data": {
      "image/png": "[encoded data removed]",
      "text/plain": [
       "<Figure size 720x360 with 1 Axes>"
      ]
     },
     "metadata": {
      "needs_background": "light"
     },
     "output_type": "display_data"
    }
   ],
   "source": [
    "#Event day graph\n",
    "ev_tm = ev[ev['treatment']>0].describe()[1:2]\n",
    "ev_ct= ev[ev['treatment']<1].describe()[1:2]\n",
    "\n",
    "EV = ev_tm.append(ev_ct)\n",
    "\n",
    "EV.index=['treatment','control']\n",
    "\n",
    "EV=EV.drop(columns='treatment')\n",
    "EV=EV.transpose()\n",
    "\n",
    "labels=['0','1','2','3','4','5','6','7','8','9','10','11','12','13','14','15','16','17','18','19','20','21','22','23']\n",
    "ax=EV.plot(figsize=(10,5))\n",
    "ax.set_xticks(range(len(EV)))\n",
    "ax.set_xticklabels(labels, rotation=0,fontsize=12)\n",
    "plt.xlabel(\"hours\", fontsize=20)\n",
    "plt.ylabel(\"hourly demand (kW)\", fontsize=20)\n",
    "ax.legend(fontsize=20)\n",
    "ax.set_title('Average event day', fontsize=20)"
   ]
  },
  {
   "cell_type": "markdown",
   "id": "0089c680",
   "metadata": {
    "papermill": {
     "duration": 0.033417,
     "end_time": "2022-05-13T17:02:06.075437",
     "exception": false,
     "start_time": "2022-05-13T17:02:06.042020",
     "status": "completed"
    },
    "tags": []
   },
   "source": [
    "## Step 5: cauculate load impact\n"
   ]
  },
  {
   "cell_type": "code",
   "execution_count": 14,
   "id": "99c57c41",
   "metadata": {
    "execution": {
     "iopub.execute_input": "2022-05-13T17:02:06.147222Z",
     "iopub.status.busy": "2022-05-13T17:02:06.146607Z",
     "iopub.status.idle": "2022-05-13T17:02:06.210263Z",
     "shell.execute_reply": "2022-05-13T17:02:06.210785Z",
     "shell.execute_reply.started": "2022-05-13T16:55:33.449920Z"
    },
    "papermill": {
     "duration": 0.100987,
     "end_time": "2022-05-13T17:02:06.210937",
     "exception": false,
     "start_time": "2022-05-13T17:02:06.109950",
     "status": "completed"
    },
    "tags": []
   },
   "outputs": [
    {
     "data": {
      "text/html": [
       "<div>\n",
       "<style scoped>\n",
       "    .dataframe tbody tr th:only-of-type {\n",
       "        vertical-align: middle;\n",
       "    }\n",
       "\n",
       "    .dataframe tbody tr th {\n",
       "        vertical-align: top;\n",
       "    }\n",
       "\n",
       "    .dataframe thead th {\n",
       "        text-align: right;\n",
       "    }\n",
       "</style>\n",
       "<table border=\"1\" class=\"dataframe\">\n",
       "  <thead>\n",
       "    <tr style=\"text-align: right;\">\n",
       "      <th></th>\n",
       "      <th>treatment</th>\n",
       "      <th>control</th>\n",
       "      <th>dif</th>\n",
       "      <th>dif%</th>\n",
       "    </tr>\n",
       "  </thead>\n",
       "  <tbody>\n",
       "    <tr>\n",
       "      <th>customer_id</th>\n",
       "      <td>33038.444965</td>\n",
       "      <td>26701.591137</td>\n",
       "      <td>6336.853828</td>\n",
       "      <td>0.237321</td>\n",
       "    </tr>\n",
       "    <tr>\n",
       "      <th>kw15</th>\n",
       "      <td>2.197073</td>\n",
       "      <td>3.366724</td>\n",
       "      <td>-1.169651</td>\n",
       "      <td>-0.347415</td>\n",
       "    </tr>\n",
       "    <tr>\n",
       "      <th>kw16</th>\n",
       "      <td>2.690741</td>\n",
       "      <td>3.586566</td>\n",
       "      <td>-0.895825</td>\n",
       "      <td>-0.249772</td>\n",
       "    </tr>\n",
       "    <tr>\n",
       "      <th>kw17</th>\n",
       "      <td>3.023348</td>\n",
       "      <td>3.722191</td>\n",
       "      <td>-0.698843</td>\n",
       "      <td>-0.187751</td>\n",
       "    </tr>\n",
       "    <tr>\n",
       "      <th>kw18</th>\n",
       "      <td>3.159783</td>\n",
       "      <td>3.803636</td>\n",
       "      <td>-0.643853</td>\n",
       "      <td>-0.169273</td>\n",
       "    </tr>\n",
       "    <tr>\n",
       "      <th>obs</th>\n",
       "      <td>17.000000</td>\n",
       "      <td>17.000000</td>\n",
       "      <td>0.000000</td>\n",
       "      <td>0.000000</td>\n",
       "    </tr>\n",
       "    <tr>\n",
       "      <th>Customer Characteristics.customer_id</th>\n",
       "      <td>33038.444965</td>\n",
       "      <td>26701.591137</td>\n",
       "      <td>6336.853828</td>\n",
       "      <td>0.237321</td>\n",
       "    </tr>\n",
       "    <tr>\n",
       "      <th>Events and Proxy Days.event_day</th>\n",
       "      <td>1.000000</td>\n",
       "      <td>1.000000</td>\n",
       "      <td>0.000000</td>\n",
       "      <td>0.000000</td>\n",
       "    </tr>\n",
       "    <tr>\n",
       "      <th>Events and Proxy Days.proxy_day</th>\n",
       "      <td>0.000000</td>\n",
       "      <td>0.000000</td>\n",
       "      <td>0.000000</td>\n",
       "      <td>NaN</td>\n",
       "    </tr>\n",
       "    <tr>\n",
       "      <th>average</th>\n",
       "      <td>2.767736</td>\n",
       "      <td>3.619780</td>\n",
       "      <td>-0.852043</td>\n",
       "      <td>-0.235385</td>\n",
       "    </tr>\n",
       "  </tbody>\n",
       "</table>\n",
       "</div>"
      ],
      "text/plain": [
       "                                         treatment       control          dif  \\\n",
       "customer_id                           33038.444965  26701.591137  6336.853828   \n",
       "kw15                                      2.197073      3.366724    -1.169651   \n",
       "kw16                                      2.690741      3.586566    -0.895825   \n",
       "kw17                                      3.023348      3.722191    -0.698843   \n",
       "kw18                                      3.159783      3.803636    -0.643853   \n",
       "obs                                      17.000000     17.000000     0.000000   \n",
       "Customer Characteristics.customer_id  33038.444965  26701.591137  6336.853828   \n",
       "Events and Proxy Days.event_day           1.000000      1.000000     0.000000   \n",
       "Events and Proxy Days.proxy_day           0.000000      0.000000     0.000000   \n",
       "average                                   2.767736      3.619780    -0.852043   \n",
       "\n",
       "                                          dif%  \n",
       "customer_id                           0.237321  \n",
       "kw15                                 -0.347415  \n",
       "kw16                                 -0.249772  \n",
       "kw17                                 -0.187751  \n",
       "kw18                                 -0.169273  \n",
       "obs                                   0.000000  \n",
       "Customer Characteristics.customer_id  0.237321  \n",
       "Events and Proxy Days.event_day       0.000000  \n",
       "Events and Proxy Days.proxy_day            NaN  \n",
       "average                              -0.235385  "
      ]
     },
     "execution_count": 14,
     "metadata": {},
     "output_type": "execute_result"
    }
   ],
   "source": [
    "#calculate the load impact\n",
    "#event period on event days\n",
    "\n",
    "ev=df[df['Events and Proxy Days.proxy_day']<1]\n",
    "ev_tm = ev[ev['treatment']>0].describe()[1:2]\n",
    "ev_ct= ev[ev['treatment']<1].describe()[1:2]\n",
    "\n",
    "EV = ev_tm.append(ev_ct)\n",
    "\n",
    "EV.index=['treatment','control']\n",
    "\n",
    "EV=EV.drop(columns='treatment')\n",
    "EV=EV.transpose()\n",
    "EV['dif']= EV['treatment']- EV['control']\n",
    "EV['dif%'] = EV['dif']/EV['control']\n",
    "#hourly usage impact and percent impact\n",
    "EV\n"
   ]
  },
  {
   "cell_type": "code",
   "execution_count": 15,
   "id": "79f0d827",
   "metadata": {
    "execution": {
     "iopub.execute_input": "2022-05-13T17:02:06.281664Z",
     "iopub.status.busy": "2022-05-13T17:02:06.281080Z",
     "iopub.status.idle": "2022-05-13T17:02:06.289523Z",
     "shell.execute_reply": "2022-05-13T17:02:06.290109Z",
     "shell.execute_reply.started": "2022-01-29T04:13:39.298833Z"
    },
    "papermill": {
     "duration": 0.045212,
     "end_time": "2022-05-13T17:02:06.290242",
     "exception": false,
     "start_time": "2022-05-13T17:02:06.245030",
     "status": "completed"
    },
    "tags": []
   },
   "outputs": [
    {
     "data": {
      "text/plain": [
       "16316.0    10\n",
       "33111.0    10\n",
       "71976.0    10\n",
       "39458.0    10\n",
       "31474.0    10\n",
       "           ..\n",
       "15924.0    10\n",
       "70323.0    10\n",
       "51840.0    10\n",
       "12451.0    10\n",
       "51244.0    10\n",
       "Name: customer_id, Length: 427, dtype: int64"
      ]
     },
     "execution_count": 15,
     "metadata": {},
     "output_type": "execute_result"
    }
   ],
   "source": [
    "ev_t=ev[ev['treatment']>0]\n",
    "#customer count\n",
    "ev_t['customer_id'].value_counts()"
   ]
  },
  {
   "cell_type": "code",
   "execution_count": 16,
   "id": "17c70e09",
   "metadata": {
    "execution": {
     "iopub.execute_input": "2022-05-13T17:02:06.362812Z",
     "iopub.status.busy": "2022-05-13T17:02:06.362176Z",
     "iopub.status.idle": "2022-05-13T17:02:06.370122Z",
     "shell.execute_reply": "2022-05-13T17:02:06.370693Z",
     "shell.execute_reply.started": "2022-01-29T04:13:39.31129Z"
    },
    "papermill": {
     "duration": 0.046373,
     "end_time": "2022-05-13T17:02:06.370864",
     "exception": false,
     "start_time": "2022-05-13T17:02:06.324491",
     "status": "completed"
    },
    "tags": []
   },
   "outputs": [
    {
     "data": {
      "text/plain": [
       "537.0      12\n",
       "554.0      12\n",
       "4.0        10\n",
       "27251.0    10\n",
       "69840.0    10\n",
       "           ..\n",
       "9830.0     10\n",
       "9695.0     10\n",
       "9433.0     10\n",
       "54850.0    10\n",
       "33085.0    10\n",
       "Name: customer_id, Length: 478, dtype: int64"
      ]
     },
     "execution_count": 16,
     "metadata": {},
     "output_type": "execute_result"
    }
   ],
   "source": [
    "ev_c=ev[ev['treatment']<1]\n",
    "ev_c['customer_id'].value_counts()"
   ]
  },
  {
   "cell_type": "code",
   "execution_count": 17,
   "id": "bb453fc4",
   "metadata": {
    "execution": {
     "iopub.execute_input": "2022-05-13T17:02:06.442815Z",
     "iopub.status.busy": "2022-05-13T17:02:06.442224Z",
     "iopub.status.idle": "2022-05-13T17:02:06.459567Z",
     "shell.execute_reply": "2022-05-13T17:02:06.460164Z",
     "shell.execute_reply.started": "2022-01-29T04:13:39.325801Z"
    },
    "papermill": {
     "duration": 0.054842,
     "end_time": "2022-05-13T17:02:06.460295",
     "exception": false,
     "start_time": "2022-05-13T17:02:06.405453",
     "status": "completed"
    },
    "tags": []
   },
   "outputs": [
    {
     "name": "stdout",
     "output_type": "stream",
     "text": [
      "69268.101669522\n",
      "47272.93764796801\n",
      "21995.164021554003\n"
     ]
    },
    {
     "data": {
      "text/plain": [
       "0.3175366942563677"
      ]
     },
     "execution_count": 17,
     "metadata": {},
     "output_type": "execute_result"
    }
   ],
   "source": [
    "#aggregated control group usage\n",
    "print(sum(ev_c[col].sum()))\n",
    "#aggregated treatment group usage\n",
    "print(sum(ev_t[col].sum()))\n",
    "#aggregated saving kwh\n",
    "print(sum(ev_c[col].sum()-ev_t[col].sum()))\n",
    "\n",
    "# % saving comparing to control group\n",
    "sum(ev_c[col].sum()-ev_t[col].sum())/sum(ev_c[col].sum())"
   ]
  },
  {
   "cell_type": "code",
   "execution_count": 18,
   "id": "1375f32f",
   "metadata": {
    "execution": {
     "iopub.execute_input": "2022-05-13T17:02:06.533831Z",
     "iopub.status.busy": "2022-05-13T17:02:06.533238Z",
     "iopub.status.idle": "2022-05-13T17:02:06.537473Z",
     "shell.execute_reply": "2022-05-13T17:02:06.537948Z",
     "shell.execute_reply.started": "2022-05-13T16:57:52.916167Z"
    },
    "papermill": {
     "duration": 0.042436,
     "end_time": "2022-05-13T17:02:06.538077",
     "exception": false,
     "start_time": "2022-05-13T17:02:06.495641",
     "status": "completed"
    },
    "tags": []
   },
   "outputs": [
    {
     "name": "stdout",
     "output_type": "stream",
     "text": [
      "110.70946135831382\n",
      "144.79518828451884\n",
      "34.08\n",
      "0.2360085570354013\n"
     ]
    }
   ],
   "source": [
    "#average usage per customer during event period durign event days\n",
    "#treatment group usage per customer\n",
    "print(47272.94/427)\n",
    "#control group usage per customer\n",
    "print(69212.1/478)\n",
    "#impact per customer\n",
    "print(144.79-110.71)\n",
    "#percentage impact per customer\n",
    "print(34.2/144.91)"
   ]
  },
  {
   "cell_type": "markdown",
   "id": "f8efce9a",
   "metadata": {
    "papermill": {
     "duration": 0.045632,
     "end_time": "2022-05-13T17:02:06.619198",
     "exception": false,
     "start_time": "2022-05-13T17:02:06.573566",
     "status": "completed"
    },
    "tags": []
   },
   "source": [
    "|Unit: kW|Treatment|Control|Impact|Percent impact|\n",
    "|---|----|---|----|--|\n",
    "|Customer count|427|478|-|-|\n",
    "|Aggregate usage|47272.94|69212.10|21939.14|31.7%|\n",
    "|Usage per customer| 110.71|144.80|34.08|23.6%|\n",
    "\n",
    "The result table suggests that the average treatment group customer experiences 23.6% energy saving compared to the control group, about 34.08 kW saving per customer. At aggregate level, raising electricity prices during peak hour brings 31.7% energy saving, about 21939.14 kW total. "
   ]
  }
 ],
 "metadata": {
  "kernelspec": {
   "display_name": "Python 3",
   "language": "python",
   "name": "python3"
  },
  "language_info": {
   "codemirror_mode": {
    "name": "ipython",
    "version": 3
   },
   "file_extension": ".py",
   "mimetype": "text/x-python",
   "name": "python",
   "nbconvert_exporter": "python",
   "pygments_lexer": "ipython3",
   "version": "3.7.12"
  },
  "papermill": {
   "default_parameters": {},
   "duration": 15.94973,
   "end_time": "2022-05-13T17:02:07.364455",
   "environment_variables": {},
   "exception": null,
   "input_path": "__notebook__.ipynb",
   "output_path": "__notebook__.ipynb",
   "parameters": {},
   "start_time": "2022-05-13T17:01:51.414725",
   "version": "2.3.3"
  }
 },
 "nbformat": 4,
 "nbformat_minor": 5
}
